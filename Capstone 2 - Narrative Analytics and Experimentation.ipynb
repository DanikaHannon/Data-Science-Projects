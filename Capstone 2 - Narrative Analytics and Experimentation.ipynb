{
 "cells": [
  {
   "cell_type": "markdown",
   "metadata": {},
   "source": [
    "## Project Description"
   ]
  },
  {
   "cell_type": "markdown",
   "metadata": {},
   "source": [
    "The main component of this capstone is a research proposal. Using the data set you selected, propose and outline an experiment plan. The plan should consist of three key components:\n",
    "\n",
    "- Analysis that highlights your experimental hypothesis.\n",
    "- A rollout plan showing how you would implement and rollout the experiment\n",
    "- An evaluation plan showing what constitutes success in this experiment"
   ]
  },
  {
   "cell_type": "markdown",
   "metadata": {},
   "source": [
    "## Import Statements"
   ]
  },
  {
   "cell_type": "code",
   "execution_count": 2,
   "metadata": {},
   "outputs": [],
   "source": [
    "%matplotlib inline\n",
    "import pandas as pd\n",
    "import numpy as np\n",
    "import seaborn as sns\n",
    "from matplotlib import pyplot as plt\n",
    "from scipy import stats"
   ]
  },
  {
   "cell_type": "markdown",
   "metadata": {},
   "source": [
    "## About the Dataset"
   ]
  },
  {
   "cell_type": "markdown",
   "metadata": {},
   "source": [
    "Taken from __[Kaggle](https://www.kaggle.com/loveall/email-campaign-management-for-sme/downloads/email-campaign-management-for-sme.zip/1)__, this dataset has email data from small to medium business owners that use Gmail to contact prospective customers. And in total, there are roughly 46,000 email IDs."
   ]
  },
  {
   "cell_type": "code",
   "execution_count": 19,
   "metadata": {},
   "outputs": [
    {
     "data": {
      "text/html": [
       "<div>\n",
       "<style scoped>\n",
       "    .dataframe tbody tr th:only-of-type {\n",
       "        vertical-align: middle;\n",
       "    }\n",
       "\n",
       "    .dataframe tbody tr th {\n",
       "        vertical-align: top;\n",
       "    }\n",
       "\n",
       "    .dataframe thead th {\n",
       "        text-align: right;\n",
       "    }\n",
       "</style>\n",
       "<table border=\"1\" class=\"dataframe\">\n",
       "  <thead>\n",
       "    <tr style=\"text-align: right;\">\n",
       "      <th></th>\n",
       "      <th>Email_ID</th>\n",
       "      <th>Email_Type</th>\n",
       "      <th>Subject_Hotness_Score</th>\n",
       "      <th>Email_Source_Type</th>\n",
       "      <th>Customer_Location</th>\n",
       "      <th>Email_Campaign_Type</th>\n",
       "      <th>Total_Past_Communications</th>\n",
       "      <th>Time_Email_sent_Category</th>\n",
       "      <th>Word_Count</th>\n",
       "      <th>Total_Links</th>\n",
       "      <th>Total_Images</th>\n",
       "    </tr>\n",
       "  </thead>\n",
       "  <tbody>\n",
       "    <tr>\n",
       "      <th>0</th>\n",
       "      <td>EMA00081000168000</td>\n",
       "      <td>1</td>\n",
       "      <td>0.3</td>\n",
       "      <td>2</td>\n",
       "      <td>H</td>\n",
       "      <td>3</td>\n",
       "      <td>42.0</td>\n",
       "      <td>2</td>\n",
       "      <td>873</td>\n",
       "      <td>14.0</td>\n",
       "      <td>0.0</td>\n",
       "    </tr>\n",
       "    <tr>\n",
       "      <th>1</th>\n",
       "      <td>EMA00081000187610</td>\n",
       "      <td>1</td>\n",
       "      <td>1.3</td>\n",
       "      <td>2</td>\n",
       "      <td>G</td>\n",
       "      <td>2</td>\n",
       "      <td>32.0</td>\n",
       "      <td>1</td>\n",
       "      <td>630</td>\n",
       "      <td>26.0</td>\n",
       "      <td>11.0</td>\n",
       "    </tr>\n",
       "    <tr>\n",
       "      <th>2</th>\n",
       "      <td>EMA00081000244770</td>\n",
       "      <td>2</td>\n",
       "      <td>0.0</td>\n",
       "      <td>1</td>\n",
       "      <td>H</td>\n",
       "      <td>3</td>\n",
       "      <td>21.0</td>\n",
       "      <td>1</td>\n",
       "      <td>988</td>\n",
       "      <td>8.0</td>\n",
       "      <td>2.0</td>\n",
       "    </tr>\n",
       "    <tr>\n",
       "      <th>3</th>\n",
       "      <td>EMA00081000245260</td>\n",
       "      <td>1</td>\n",
       "      <td>2.3</td>\n",
       "      <td>1</td>\n",
       "      <td>G</td>\n",
       "      <td>2</td>\n",
       "      <td>25.0</td>\n",
       "      <td>3</td>\n",
       "      <td>339</td>\n",
       "      <td>9.0</td>\n",
       "      <td>5.0</td>\n",
       "    </tr>\n",
       "    <tr>\n",
       "      <th>4</th>\n",
       "      <td>EMA00081000264690</td>\n",
       "      <td>1</td>\n",
       "      <td>1.2</td>\n",
       "      <td>2</td>\n",
       "      <td>NaN</td>\n",
       "      <td>2</td>\n",
       "      <td>30.0</td>\n",
       "      <td>2</td>\n",
       "      <td>1157</td>\n",
       "      <td>31.0</td>\n",
       "      <td>14.0</td>\n",
       "    </tr>\n",
       "    <tr>\n",
       "      <th>5</th>\n",
       "      <td>EMA00081000337110</td>\n",
       "      <td>1</td>\n",
       "      <td>0.1</td>\n",
       "      <td>2</td>\n",
       "      <td>G</td>\n",
       "      <td>3</td>\n",
       "      <td>25.0</td>\n",
       "      <td>2</td>\n",
       "      <td>1157</td>\n",
       "      <td>31.0</td>\n",
       "      <td>NaN</td>\n",
       "    </tr>\n",
       "    <tr>\n",
       "      <th>6</th>\n",
       "      <td>EMA00081000390580</td>\n",
       "      <td>2</td>\n",
       "      <td>0.3</td>\n",
       "      <td>1</td>\n",
       "      <td>H</td>\n",
       "      <td>1</td>\n",
       "      <td>0.0</td>\n",
       "      <td>1</td>\n",
       "      <td>962</td>\n",
       "      <td>1.0</td>\n",
       "      <td>0.0</td>\n",
       "    </tr>\n",
       "    <tr>\n",
       "      <th>7</th>\n",
       "      <td>EMA00081000445960</td>\n",
       "      <td>1</td>\n",
       "      <td>1.6</td>\n",
       "      <td>1</td>\n",
       "      <td>G</td>\n",
       "      <td>2</td>\n",
       "      <td>NaN</td>\n",
       "      <td>1</td>\n",
       "      <td>578</td>\n",
       "      <td>11.0</td>\n",
       "      <td>3.0</td>\n",
       "    </tr>\n",
       "    <tr>\n",
       "      <th>8</th>\n",
       "      <td>EMA00081000581770</td>\n",
       "      <td>1</td>\n",
       "      <td>0.2</td>\n",
       "      <td>2</td>\n",
       "      <td>D</td>\n",
       "      <td>2</td>\n",
       "      <td>33.0</td>\n",
       "      <td>2</td>\n",
       "      <td>1173</td>\n",
       "      <td>21.0</td>\n",
       "      <td>2.0</td>\n",
       "    </tr>\n",
       "    <tr>\n",
       "      <th>9</th>\n",
       "      <td>EMA00081000587870</td>\n",
       "      <td>1</td>\n",
       "      <td>0.2</td>\n",
       "      <td>2</td>\n",
       "      <td>G</td>\n",
       "      <td>3</td>\n",
       "      <td>23.0</td>\n",
       "      <td>2</td>\n",
       "      <td>1173</td>\n",
       "      <td>2.0</td>\n",
       "      <td>0.0</td>\n",
       "    </tr>\n",
       "  </tbody>\n",
       "</table>\n",
       "</div>"
      ],
      "text/plain": [
       "            Email_ID  Email_Type  Subject_Hotness_Score  Email_Source_Type  \\\n",
       "0  EMA00081000168000           1                    0.3                  2   \n",
       "1  EMA00081000187610           1                    1.3                  2   \n",
       "2  EMA00081000244770           2                    0.0                  1   \n",
       "3  EMA00081000245260           1                    2.3                  1   \n",
       "4  EMA00081000264690           1                    1.2                  2   \n",
       "5  EMA00081000337110           1                    0.1                  2   \n",
       "6  EMA00081000390580           2                    0.3                  1   \n",
       "7  EMA00081000445960           1                    1.6                  1   \n",
       "8  EMA00081000581770           1                    0.2                  2   \n",
       "9  EMA00081000587870           1                    0.2                  2   \n",
       "\n",
       "  Customer_Location  Email_Campaign_Type  Total_Past_Communications  \\\n",
       "0                 H                    3                       42.0   \n",
       "1                 G                    2                       32.0   \n",
       "2                 H                    3                       21.0   \n",
       "3                 G                    2                       25.0   \n",
       "4               NaN                    2                       30.0   \n",
       "5                 G                    3                       25.0   \n",
       "6                 H                    1                        0.0   \n",
       "7                 G                    2                        NaN   \n",
       "8                 D                    2                       33.0   \n",
       "9                 G                    3                       23.0   \n",
       "\n",
       "   Time_Email_sent_Category  Word_Count  Total_Links  Total_Images  \n",
       "0                         2         873         14.0           0.0  \n",
       "1                         1         630         26.0          11.0  \n",
       "2                         1         988          8.0           2.0  \n",
       "3                         3         339          9.0           5.0  \n",
       "4                         2        1157         31.0          14.0  \n",
       "5                         2        1157         31.0           NaN  \n",
       "6                         1         962          1.0           0.0  \n",
       "7                         1         578         11.0           3.0  \n",
       "8                         2        1173         21.0           2.0  \n",
       "9                         2        1173          2.0           0.0  "
      ]
     },
     "execution_count": 19,
     "metadata": {},
     "output_type": "execute_result"
    }
   ],
   "source": [
    "df = pd.read_csv('Test_09JmpYa.csv')\n",
    "df.head(10)"
   ]
  },
  {
   "cell_type": "code",
   "execution_count": 11,
   "metadata": {},
   "outputs": [
    {
     "data": {
      "text/plain": [
       "45978"
      ]
     },
     "execution_count": 11,
     "metadata": {},
     "output_type": "execute_result"
    }
   ],
   "source": [
    "df['Email_ID'].count()"
   ]
  },
  {
   "cell_type": "markdown",
   "metadata": {},
   "source": [
    "## Experimental Hypothesis"
   ]
  },
  {
   "cell_type": "markdown",
   "metadata": {},
   "source": [
    "The business owners' goals are to use Gmail to contact prospective customers and convert them into paying customers that buy products from the businesses.\n",
    "\n",
    "According to __[marketing research](https://www.pinpointe.com/blog/how-images-impact-email-campaigns)__ it's a good idea to use visuals in e-mails because:\n",
    "\n",
    "- They draw attention.\n",
    "- When given the choice between images and text, people would rather see images in an email.\n",
    "- Images are easy to understand.\n",
    "\n",
    "Given that, the hypothesis of this experiment is this: if business owners' change their current email design and send emails that have more images in them, they'll convert more prospective customers to paying customers than if they do not re-design their emails.\n",
    "\n",
    "__Question: is a null hypothesis needed?__"
   ]
  },
  {
   "cell_type": "markdown",
   "metadata": {},
   "source": [
    "## Experiment Implementation and Roll-Out Plan"
   ]
  },
  {
   "cell_type": "markdown",
   "metadata": {},
   "source": [
    "Here are the details of the experiment implementation and roll-out plan: \n",
    "\n",
    "_Rollout Plan_\n",
    "- The new emails will be rolled out gradually in case there's a negative response to the new emails or if something breaks (like the email doesn't display properly across all devices). Given that, the new email will be sent to 10% of the email IDs for two weeks. Then the email will be sent to 50% of the email IDs for two weeks. After four weeks, the email will have reached about 32,000 people.\n",
    "- __[Mailchimp](https://mailchimp.com/resources/insights-from-mailchimps-send-time-optimization-system/)__ found that the best time to send a marketing email is between 10:00 AM to noon on a Thursday, so all the emails will be sent at 11:00 AM on Thursdays.\n",
    "\n",
    "\n",
    "\n",
    "_Method for Randmoly Sampling Subjects_\n",
    "- For each location:\n",
    "    - During the first two weeks, the new emails will be sent to 10% of the customers.\n",
    "    - In the second two weeks, emails will be sent to 50% of the customers at each location.\n",
    "\n",
    "_Copy of Both Emails_\n",
    "- For this A/B test, there will be two copies of the same email - one copy that's the original and a re-designed version of the email.\n",
    "\n",
    "_Test the Email Formatting_\n",
    "- To help ensure the emails display correctly across multiple devices, they'll need to be tested by IT before the experiment starts.\n",
    "\n",
    "_Collision with Other Experiments_\n",
    "- Confirm that the business owners' aren't planning on making major changes to their marketing campaigns during the experiment."
   ]
  },
  {
   "cell_type": "markdown",
   "metadata": {},
   "source": [
    "## Evaluation Plan"
   ]
  },
  {
   "cell_type": "markdown",
   "metadata": {},
   "source": [
    "\n",
    "_Success Metric_\n",
    "- The success metric of this experiment will be measured by how many prospective customers (who get the redesigned email) convert to paying customers. If successful, the p-value will be 0.05.\n",
    "\n",
    "_Secondary Success Metric_\n",
    "- The secondary success metric will be the time split between when the customer opened an email to when they bought a product. The shorter the timespan between the customer opening the email and buying a product, the more successful the campaign is."
   ]
  },
  {
   "cell_type": "code",
   "execution_count": null,
   "metadata": {},
   "outputs": [],
   "source": []
  }
 ],
 "metadata": {
  "kernelspec": {
   "display_name": "Python 3",
   "language": "python",
   "name": "python3"
  },
  "language_info": {
   "codemirror_mode": {
    "name": "ipython",
    "version": 3
   },
   "file_extension": ".py",
   "mimetype": "text/x-python",
   "name": "python",
   "nbconvert_exporter": "python",
   "pygments_lexer": "ipython3",
   "version": "3.7.3"
  }
 },
 "nbformat": 4,
 "nbformat_minor": 2
}

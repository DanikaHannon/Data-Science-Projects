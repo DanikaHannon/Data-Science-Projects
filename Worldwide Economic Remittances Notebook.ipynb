{
 "cells": [
  {
   "cell_type": "markdown",
   "metadata": {},
   "source": [
    "## Report on Remittance In-Flows from 2013-2017"
   ]
  },
  {
   "cell_type": "markdown",
   "metadata": {},
   "source": [
    "## Introduction"
   ]
  },
  {
   "cell_type": "markdown",
   "metadata": {},
   "source": [
    "_Background_\n",
    "\n",
    "For this report, I analyzed a data set from the World Bank that has information on global money transfers. The World Bank's information stood out because:\n",
    "\n",
    "- I work for MoneyGram, which is a money transfer business whose main consumers are people that've moved to a new country and want to send money home.\n",
    "- The World Bank's a trustworthy and credible source. Plus, it's predicted that $715 billion dollars in remittances will be sent in 2019.\n",
    "\n",
    "_Assumptions_\n",
    "\n",
    "I assumed that this data doesn't include remittance in-flows that are sent using informal channels.\n",
    "\n",
    "_Report Outline_\n",
    "\n",
    "This covers:\n",
    "\n",
    "- The data frame.\n",
    "- Statistics taken from the data frame.\n",
    "- Data analysis of the remittance in-flows.\n",
    "- Further questions about the data.\n",
    "- The resources used for this project."
   ]
  },
  {
   "cell_type": "markdown",
   "metadata": {},
   "source": [
    "## Import Statements"
   ]
  },
  {
   "cell_type": "code",
   "execution_count": 24,
   "metadata": {},
   "outputs": [],
   "source": [
    "import statistics\n",
    "import pandas as pd\n",
    "import numpy as np\n",
    "import matplotlib.pyplot as plt; plt.rcdefaults()\n",
    "import matplotlib.pyplot as plt\n",
    "%matplotlib inline"
   ]
  },
  {
   "cell_type": "markdown",
   "metadata": {},
   "source": [
    "## The Data Frame"
   ]
  },
  {
   "cell_type": "code",
   "execution_count": 2,
   "metadata": {},
   "outputs": [
    {
     "data": {
      "text/html": [
       "<div>\n",
       "<style scoped>\n",
       "    .dataframe tbody tr th:only-of-type {\n",
       "        vertical-align: middle;\n",
       "    }\n",
       "\n",
       "    .dataframe tbody tr th {\n",
       "        vertical-align: top;\n",
       "    }\n",
       "\n",
       "    .dataframe thead th {\n",
       "        text-align: right;\n",
       "    }\n",
       "</style>\n",
       "<table border=\"1\" class=\"dataframe\">\n",
       "  <thead>\n",
       "    <tr style=\"text-align: right;\">\n",
       "      <th></th>\n",
       "      <th>Migrant remittance inflows (US$ million)</th>\n",
       "      <th>2013</th>\n",
       "      <th>2014</th>\n",
       "      <th>2015</th>\n",
       "      <th>2016</th>\n",
       "      <th>2017p</th>\n",
       "    </tr>\n",
       "  </thead>\n",
       "  <tbody>\n",
       "    <tr>\n",
       "      <th>86</th>\n",
       "      <td>India</td>\n",
       "      <td>69970.360847</td>\n",
       "      <td>70388.642796</td>\n",
       "      <td>68909.691648</td>\n",
       "      <td>62744.364288</td>\n",
       "      <td>65379.627588</td>\n",
       "    </tr>\n",
       "    <tr>\n",
       "      <th>40</th>\n",
       "      <td>China</td>\n",
       "      <td>59491.287194</td>\n",
       "      <td>62332.342308</td>\n",
       "      <td>63937.646592</td>\n",
       "      <td>60999.999488</td>\n",
       "      <td>62850.031047</td>\n",
       "    </tr>\n",
       "    <tr>\n",
       "      <th>151</th>\n",
       "      <td>Philippines</td>\n",
       "      <td>25368.840921</td>\n",
       "      <td>28690.797896</td>\n",
       "      <td>29799.395328</td>\n",
       "      <td>31144.631808</td>\n",
       "      <td>32795.297294</td>\n",
       "    </tr>\n",
       "    <tr>\n",
       "      <th>66</th>\n",
       "      <td>France</td>\n",
       "      <td>24406.333513</td>\n",
       "      <td>25351.157147</td>\n",
       "      <td>23765.700608</td>\n",
       "      <td>24373.082432</td>\n",
       "      <td>24519.320927</td>\n",
       "    </tr>\n",
       "    <tr>\n",
       "      <th>125</th>\n",
       "      <td>Mexico</td>\n",
       "      <td>23432.844108</td>\n",
       "      <td>24802.081325</td>\n",
       "      <td>26233.172352</td>\n",
       "      <td>28670.114304</td>\n",
       "      <td>30533.671734</td>\n",
       "    </tr>\n",
       "  </tbody>\n",
       "</table>\n",
       "</div>"
      ],
      "text/plain": [
       "    Migrant remittance inflows (US$ million)          2013          2014  \\\n",
       "86                                     India  69970.360847  70388.642796   \n",
       "40                                     China  59491.287194  62332.342308   \n",
       "151                              Philippines  25368.840921  28690.797896   \n",
       "66                                    France  24406.333513  25351.157147   \n",
       "125                                   Mexico  23432.844108  24802.081325   \n",
       "\n",
       "             2015          2016         2017p  \n",
       "86   68909.691648  62744.364288  65379.627588  \n",
       "40   63937.646592  60999.999488  62850.031047  \n",
       "151  29799.395328  31144.631808  32795.297294  \n",
       "66   23765.700608  24373.082432  24519.320927  \n",
       "125  26233.172352  28670.114304  30533.671734  "
      ]
     },
     "execution_count": 2,
     "metadata": {},
     "output_type": "execute_result"
    }
   ],
   "source": [
    "df = pd.read_csv(\"Worldwide Economic Remittances/remittance-inflow.csv\")\n",
    "\n",
    "df[[\"Migrant remittance inflows (US$ million)\", \"2013\", \"2014\", \"2015\", \"2016\", \"2017p\"]].sort_values(by=[\"2013\", \"2014\", \"2015\", \"2016\", \"2017p\"], ascending=False).head(6).drop(214)\n",
    "df = df[[\"Migrant remittance inflows (US$ million)\", \"2013\", \"2014\", \"2015\", \"2016\", \"2017p\"]].sort_values(by=[\"2013\", \"2014\", \"2015\", \"2016\", \"2017p\"], ascending=False).head(6).drop(214)\n",
    "\n",
    "df"
   ]
  },
  {
   "cell_type": "markdown",
   "metadata": {},
   "source": [
    "## Statistical Information About the Remittance In-Flows Data"
   ]
  },
  {
   "cell_type": "code",
   "execution_count": 3,
   "metadata": {},
   "outputs": [],
   "source": [
    "remittance_in_flow_years = [2013, 2014, 2015, 2016, 2017]\n",
    "\n",
    "india_in_flows = df.loc[86, :].to_list()[1:]\n",
    "mean_india_in_flows = statistics.mean(india_in_flows)\n",
    "\n",
    "china_in_flows = df.loc[40, :].to_list()[1:]\n",
    "mean_china_in_flows = statistics.mean(china_in_flows)\n",
    "\n",
    "philippines_in_flows = df.loc[151, :].to_list()[1:]\n",
    "mean_philippines_in_flows = statistics.mean(philippines_in_flows)\n",
    "\n",
    "france_in_flows = df.loc[66, :].to_list()[1:]\n",
    "mean_france_in_flows = statistics.mean(france_in_flows)\n",
    "\n",
    "mexico_in_flows = df.loc[125, :].to_list()[1:]\n",
    "mean_mexico_in_flows = statistics.mean(mexico_in_flows)\n",
    "\n",
    "country_means = [mean_india_in_flows, mean_china_in_flows, mean_philippines_in_flows, mean_france_in_flows, mean_mexico_in_flows]\n",
    "total_country_means = sum(country_means)"
   ]
  },
  {
   "cell_type": "markdown",
   "metadata": {},
   "source": [
    "## Data Analysis of the Remittance In-Flows"
   ]
  },
  {
   "cell_type": "markdown",
   "metadata": {},
   "source": [
    "#### Question One: I want to start a company to send money transfers, what's the market like for the top five remittance in-flow countries?"
   ]
  },
  {
   "cell_type": "markdown",
   "metadata": {},
   "source": [
    "I'll use a box plot to graph the average remittance in-flow values for the top five countries from 2013-2017."
   ]
  },
  {
   "cell_type": "code",
   "execution_count": 12,
   "metadata": {},
   "outputs": [
    {
     "data": {
      "image/png": "[encoded data removed]",
      "text/plain": [
       "<Figure size 432x288 with 1 Axes>"
      ]
     },
     "metadata": {
      "needs_background": "light"
     },
     "output_type": "display_data"
    }
   ],
   "source": [
    "plt.boxplot(country_means)\n",
    "plt.title(\"The Remittance In-Flows Market\")\n",
    "plt.show()"
   ]
  },
  {
   "cell_type": "markdown",
   "metadata": {},
   "source": [
    "There's quite a bit of variation across the market and a marked difference between the countries with the largest and smallest amount of in-flows. Because the gaps are so large, looking at the individual remittance in-flows for those countries would be useful.\n",
    "\n",
    "And in terms of starting a company, you could focus on countries with the highest amount of in-flows because they're the most valuable."
   ]
  },
  {
   "cell_type": "markdown",
   "metadata": {},
   "source": [
    "#### Question Two: what are the remittance in-flows for each of the top five countries?"
   ]
  },
  {
   "cell_type": "code",
   "execution_count": 5,
   "metadata": {},
   "outputs": [
    {
     "data": {
      "text/plain": [
       "<function matplotlib.pyplot.show(*args, **kw)>"
      ]
     },
     "execution_count": 5,
     "metadata": {},
     "output_type": "execute_result"
    },
    {
     "data": {
      "image/png": "[encoded data removed]",
      "text/plain": [
       "<Figure size 432x288 with 1 Axes>"
      ]
     },
     "metadata": {
      "needs_background": "light"
     },
     "output_type": "display_data"
    }
   ],
   "source": [
    "plt.plot(remittance_in_flow_years, india_in_flows, label = \"India\")\n",
    "plt.plot(remittance_in_flow_years, china_in_flows, label = \"China\")\n",
    "plt.plot(remittance_in_flow_years, philippines_in_flows, label = \"Philippines\")\n",
    "plt.plot(remittance_in_flow_years, mexico_in_flows, label = \"Mexico\")\n",
    "plt.plot(remittance_in_flow_years, france_in_flows, label = \"France\")\n",
    "\n",
    "plt.ylabel(\"US Dollars (Millions)\")\n",
    "plt.xlabel(\"Year\")\n",
    "plt.title(\"Remittance In-Flows of the Top Five Countries\")\n",
    "plt.xticks([2013, 2014, 2015, 2016, 2017])\n",
    "plt.legend()\n",
    "plt.show"
   ]
  },
  {
   "cell_type": "markdown",
   "metadata": {},
   "source": [
    "For India and China, the value of the remittance in-flows was more than $60,000 USD (millions) each year, which re-enforces the idea that a good starting strategy would be to target the remittance in-flow markets of India and China.\n",
    "\n",
    "However, uncertainty could be an issue because both India's and China's remittance in-flows dropped in 2015 and, as of 2017, haven't recovered to pre-2015 levels.\n",
    "\n",
    "This graph also raises a question: should countries rely on remittances as a stable source of funds?"
   ]
  },
  {
   "cell_type": "markdown",
   "metadata": {},
   "source": [
    "#### Question Three: should countries rely on remittances as a stable source of funds?"
   ]
  },
  {
   "cell_type": "code",
   "execution_count": 35,
   "metadata": {},
   "outputs": [
    {
     "data": {
      "image/png": "[encoded data removed]",
      "text/plain": [
       "<Figure size 640x480 with 2 Axes>"
      ]
     },
     "metadata": {},
     "output_type": "display_data"
    }
   ],
   "source": [
    "plt.subplot(1, 2, 1)\n",
    "\n",
    "y_pos = np.arange(len(remittance_in_flow_years))\n",
    "plt.bar(y_pos, india_in_flows, align = \"center\", alpha = 0.5)\n",
    "plt.xticks(y_pos, remittance_in_flow_years)\n",
    "plt.ylabel(\"USD Dollars (Millions)\")\n",
    "plt.title(\"India's Remittance In-Flows\")\n",
    "\n",
    "plt.subplot(1, 2, 2)\n",
    "\n",
    "y_pos = np.arange(len(remittance_in_flow_years))\n",
    "plt.bar(y_pos, philippines_in_flows, align = \"center\", alpha = 0.5)\n",
    "plt.xticks(y_pos, remittance_in_flow_years)\n",
    "plt.ylabel(\"USD Dollars (Millions)\")\n",
    "plt.title(\"Philippine's Remittance In-Flows\")\n",
    "\n",
    "plt.tight_layout()"
   ]
  },
  {
   "cell_type": "markdown",
   "metadata": {},
   "source": [
    "From a conservative standpoint, countries shouldn't depend on remittance in-flows as a stable source of funds. Even though the Philippines has seen steady growth since 2013, the value of India's remittances dropped in 2015 and 2016 and didn't fully recover in 2017. \n",
    "\n",
    "This data can't address why India's market slumped, but things like immigration and finacial policies could influence in-flows and make them unpredicatable."
   ]
  },
  {
   "cell_type": "markdown",
   "metadata": {},
   "source": [
    "## Further Research"
   ]
  },
  {
   "cell_type": "markdown",
   "metadata": {},
   "source": [
    "While a few questions about this data set have been answered, there are more questions that could be asked. \n",
    "\n",
    "_Additional Questions this Data Set Could Address:_\n",
    "\n",
    "- Will the remittances market continue to grow?\n",
    "    - This could be answered by using a line plot to graph the data from 1970s through 2017 and finding the trend lines.\n",
    "    \n",
    "_Questions About Remittance In-Flows this Data Set Doesn't Answer:_\n",
    "\n",
    "- I was surprised to see wealthy nations (like China) in the top 10 list, so which groups of people are leaving the remittance in-flow countries?\n",
    "    - Demographic country data and government reports on migrant flows could have guidance.\n",
    "    \n",
    "- Of the people leaving their home countries, what's the split between high and low skilled labor? \n",
    "    - Government and non-profit reports on education would likely have this information.\n",
    "    \n",
    "- How are remittances sent from country to country and how much does it cost to send money? If costs were lowered, would more money get sent abroad?\n",
    "    - Government regulators, like the IRS, may have information on this since they regulate financial markets. Then, money trasfer companies websites would have the costs of sending money. The World Bank may have information on how remittances would be impacted if the costs were lowered."
   ]
  },
  {
   "cell_type": "markdown",
   "metadata": {},
   "source": [
    "## Resources"
   ]
  },
  {
   "cell_type": "markdown",
   "metadata": {},
   "source": [
    "For this report, I used a couple of resources from the World Bank:\n",
    "\n",
    "- The valuation of the remittance market in 2018 was taken from this artciel: __[\"Accelerated remittances growth to low- and middle-income countries in 2018\"](https://www.worldbank.org/en/news/press-release/2018/12/08/accelerated-remittances-growth-to-low-and-middle-income-countries-in-2018)__\n",
    "\n",
    "- The World Bank data set's available __[here.](https://www.kaggle.com/theworldbank/worldwide-economic-remittances)__"
   ]
  }
 ],
 "metadata": {
  "kernelspec": {
   "display_name": "Python 3",
   "language": "python",
   "name": "python3"
  },
  "language_info": {
   "codemirror_mode": {
    "name": "ipython",
    "version": 3
   },
   "file_extension": ".py",
   "mimetype": "text/x-python",
   "name": "python",
   "nbconvert_exporter": "python",
   "pygments_lexer": "ipython3",
   "version": "3.7.3"
  }
 },
 "nbformat": 4,
 "nbformat_minor": 2
}
